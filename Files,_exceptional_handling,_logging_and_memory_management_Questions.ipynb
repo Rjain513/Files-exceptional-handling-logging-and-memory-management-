{
  "nbformat": 4,
  "nbformat_minor": 0,
  "metadata": {
    "colab": {
      "provenance": []
    },
    "kernelspec": {
      "name": "python3",
      "display_name": "Python 3"
    },
    "language_info": {
      "name": "python"
    }
  },
  "cells": [
    {
      "cell_type": "code",
      "execution_count": null,
      "metadata": {
        "id": "tVglKj0GxDMo"
      },
      "outputs": [],
      "source": [
        "#1 What is the difference between interpreted and compiled languages?\n",
        "#1 Interpreted languages execute code line-by-line at runtime, making them more flexible but slower (e.g., Python, JavaScript). Compiled languages convert code into machine language before execution, resulting in faster performance but requiring compilation (e.g., C, Java). Some languages, like Java, use both approaches through intermediate bytecode and Just-In-Time compilation.\n",
        "\n",
        "#2 What is exception handling in Python?\n",
        "#2 Exception handling in Python manages runtime errors using try, except, finally, and raise. It prevents crashes by catching exceptions, handling errors gracefully, and ensuring resource cleanup, improving program stability and reliability.\n",
        "\n",
        "#3 What is the purpose of the finally block in exception handling?\n",
        "#3 The finally block in Python's exception handling ensures that specific code executes regardless of whether an exception occurs. It's typically used for cleanup tasks like closing files, releasing resources, or disconnecting from databases. This guarantees proper resource management and program stability, even if an error interrupts normal execution.\n",
        "\n",
        "#4 What is logging in Python?\n",
        "#4Logging in Python records events, errors, and debugging information during program execution. Using the logging module, developers can log messages at different levels (DEBUG, INFO, WARNING, ERROR, CRITICAL). It helps track issues, analyze performance, and maintain application health by storing logs in files or displaying them in the console.\n",
        "\n",
        "#5 What is the significance of the _del_ method in Python?\n",
        "#5 The _del_ method in Python is a destructor called when an object is about to be destroyed. It helps release resources like file handles or database connections. However, relying on _del_ is discouraged due to unpredictable execution timing, as garbage collection does not guarantee immediate object destruction.\n",
        "\n",
        "#6 What is the difference between import and from ... import in Python?\n",
        "#6 Import module imports the entire module, requiring functions to be accessed with module.function(). from module import function imports specific functions or variables directly, allowing usage without the module prefix. The latter improves readability but may cause naming conflicts. from module import * imports everything, which can clutter the namespace.\n",
        "\n",
        "#7 How can you handle multiple exceptions in Python?\n",
        "#7 In Python, multiple exceptions can be handled using multiple except blocks, a single except tuple (except (Exception1, Exception2):), or a generic except Exception: block to catch all exceptions, ensuring robust error handling.\n",
        "\n",
        "#8 What is the purpose of the with statement when handling files in Python?\n",
        "#8 The with statement in Python simplifies file handling by automatically managing resources. It ensures files are properly opened and closed, even if an error occurs. Using with open(\"file.txt\", \"r\") as f: prevents memory leaks, improves code readability, and eliminates the need for manual close() calls, ensuring safe file operations.\n",
        "\n",
        "#9 What is the difference between multithreading and multiprocessing?\n",
        "#9 Multithreading runs multiple threads within a single process, sharing memory, making it efficient for I/O-bound tasks but limited by Python’s Global Interpreter Lock (GIL). Multiprocessing runs separate processes with independent memory, bypassing the GIL, making it better for CPU-bound tasks. Multiprocessing offers true parallelism but has higher overhead.\n",
        "\n",
        "#10 What are the advantages of using logging in a program?\n",
        "#10 Logging in a program helps track events, debug issues, and monitor performance. It provides structured error reporting, improves maintainability, and aids troubleshooting. Logs can be stored, filtered, and analyzed for insights. Unlike print(), logging supports different severity levels and configurable outputs, making applications more robust, scalable, and production-ready.\n",
        "\n",
        "#11 What is memory management in Python?\n",
        "#11 Memory management in Python is handled by the built-in garbage collector, which automatically allocates and deallocates memory. It uses reference counting and cyclic garbage collection to manage memory efficiently and prevent leaks.\n",
        "\n",
        "#12 What are the basic steps involved in exception handling in Python?\n",
        "#12 Exception handling in Python involves:\n",
        "\n",
        "1. Try Block – Wraps code that may raise an exception.\n",
        "2. Except Block – Catches and handles specific or general exceptions.\n",
        "3. Else Block (optional) – Executes if no exception occurs.\n",
        "4. Finally Block (optional) – Ensures execution of cleanup code, regardless of exceptions.\n",
        "\n",
        "#13 Why is memory management important in Python?\n",
        "#13 Memory management in Python is crucial for efficient resource utilization, preventing memory leaks, and ensuring optimal application performance. Python’s automatic garbage collection handles memory allocation and deallocation, freeing developers from manual memory management. Proper memory management improves scalability, reduces crashes, and enhances overall program stability, especially in large or long-running applications.\n",
        "\n",
        "#14 What is the role of try and except in exception handling?\n",
        "#14 The try block in Python contains code that may raise exceptions, while the except block catches and handles specific or general exceptions, preventing program crashes. This ensures controlled error handling, allowing developers to log issues, provide fallback solutions, or display user-friendly messages instead of abrupt termination, improving application stability.\n",
        "\n",
        "#15 How does Python's garbage collection system work?\n",
        "#15 Python’s garbage collection system manages memory using reference counting and cyclic garbage collection. When an object’s reference count drops to zero, it is automatically deleted. The cyclic garbage collector detects and removes unreachable circular references. This ensures efficient memory use, preventing leaks and optimizing performance in long-running applications.\n",
        "\n",
        "#16 What is the purpose of the else block in exception handling?\n",
        "#16 The else block in Python’s exception handling runs only if no exceptions occur in the try block. It’s useful for executing code that should only proceed when no errors arise, improving readability and separating normal execution from error-handling logic.\n",
        "\n",
        "#17 What are the common logging levels in Python?\n",
        "#17Python’s logging module has five common logging levels:\n",
        "1. DEBUG – Detailed diagnostic information.\n",
        "2. INFO – General application progress messages.\n",
        "3. WARNING – Indicates potential issues.\n",
        "4. ERROR – Reports serious problems.\n",
        "5. CRITICAL – Logs severe errors causing system failure.\n",
        "These help categorize log messages for better debugging and monitoring.\n",
        "\n",
        "#18 What is the difference between os.fork() and multiprocessing in Python?\n",
        "#18 os.fork() creates a child process by duplicating the parent process, working only on Unix-based systems. It provides low-level control but requires manual resource management. The multiprocessing module, available cross-platform, creates separate processes with independent memory, bypassing Python’s GIL. It offers high-level APIs for process management, making parallel execution easier and more portable.\n",
        "\n",
        "#19 What is the importance of closing a file in Python?\n",
        "#19 Closing a file in Python using file.close() or a with statement ensures data is properly saved, prevents memory leaks, and releases system resources. Open files consume memory and may cause data corruption or access issues. Proper file closure improves performance, stability, and avoids exceeding system file descriptor limits.\n",
        "\n",
        "#20 What is the difference between file.read() and file.readline() in Python?\n",
        "#20 file.read(size) reads the entire file or a specified number of bytes as a single string, useful for processing full content. file.readline() reads only one line at a time, making it efficient for handling large files line by line without loading everything into memory.\n",
        "\n",
        "#21 What is the logging module in Python used for?\n",
        "#21 The logging module in Python is used for tracking events, debugging, and monitoring applications. It provides flexible logging levels (DEBUG, INFO, WARNING, ERROR, CRITICAL), supports file and console output, and enables efficient error reporting. It helps developers diagnose issues, maintain logs, and improve application stability and performance.\n",
        "\n",
        "#22 What is the os module in Python used for in file handling?\n",
        "#22 The os module in Python provides functions for file handling, enabling operations like creating, deleting, renaming, and navigating directories. It supports file path manipulations (os.path), permission changes, and environment interactions. It ensures cross-platform compatibility, allowing efficient file management and automation in scripts and applications.\n",
        "\n",
        "#23  What are the challenges associated with memory management in Python?\n",
        "#23 Challenges in Python’s memory management include high memory usage due to dynamic typing, garbage collection overhead, reference cycles causing delayed deallocation, Global Interpreter Lock (GIL) limiting true parallelism, and fragmentation in long-running programs. Efficient memory handling requires careful object management, profiling, and optimizations like using generators and memory-efficient data structures.\n",
        "\n",
        "#24 How do you raise an exception manually in Python?\n",
        "#24 In Python, you can manually raise an exception using the raise keyword. Specify the exception type, optionally providing a message:\n",
        "\n",
        "raise ValueError(\"Invalid input\")\n",
        "\n",
        "This is useful for enforcing conditions, debugging, or handling unexpected scenarios, ensuring controlled error handling and improving program reliability.\n",
        "\n",
        "\n",
        "\n",
        "#25 Why is it important to use multithreading in certain applications?\n",
        "#25 Multithreading improves application performance by enabling concurrent execution of tasks, making it ideal for I/O-bound operations like file handling, networking, and database interactions. It enhances responsiveness in GUI applications, reduces wait times, and efficiently utilizes system resources, though Python’s GIL limits true parallelism for CPU-bound tasks.\n"
      ]
    },
    {
      "cell_type": "code",
      "source": [
        "#1  How can you open a file for writing in Python and write a string to it?\n",
        "# Open a file for writing\n",
        "with open('myfile.txt', 'w') as f:\n",
        "    f.write('Hello, World!\\n')\n"
      ],
      "metadata": {
        "id": "vQjb2NKPymbD"
      },
      "execution_count": null,
      "outputs": []
    },
    {
      "cell_type": "code",
      "source": [
        "#2 Write a Python program to read the contents of a file and print each line?\n",
        "\n",
        "file_name = 'myfile.txt'\n",
        "\n",
        "try:\n",
        "\n",
        "    with open(file_name, 'r') as file:\n",
        "\n",
        "        for line in file:\n",
        "\n",
        "            print(line.strip())\n",
        "except FileNotFoundError:\n",
        "    print(f\"The file '{file_name}' does not exist.\")\n",
        "except Exception as e:\n",
        "    print(f\"An error occurred: {e}\")\n"
      ],
      "metadata": {
        "colab": {
          "base_uri": "https://localhost:8080/"
        },
        "id": "zKFjnb6CymMy",
        "outputId": "8eb690c4-7a73-4fdc-c928-04dfccc19344"
      },
      "execution_count": null,
      "outputs": [
        {
          "output_type": "stream",
          "name": "stdout",
          "text": [
            "Hello, World!\n"
          ]
        }
      ]
    },
    {
      "cell_type": "code",
      "source": [
        "#3 How would you handle a case where the file doesn't exist while trying to open it for reading?\n",
        "import os\n",
        "\n",
        "if os.path.exists(file_name):\n",
        "    with open(file_name, 'r') as file:\n",
        "        content = file.read()\n",
        "        print(content)\n",
        "else:\n",
        "    print(f\"The file '{file_name}' does not exist.\")\n"
      ],
      "metadata": {
        "colab": {
          "base_uri": "https://localhost:8080/"
        },
        "id": "uumvpBw2yl37",
        "outputId": "4046548a-8424-4d5b-c588-d406953595b7"
      },
      "execution_count": null,
      "outputs": [
        {
          "output_type": "stream",
          "name": "stdout",
          "text": [
            "Hello, World!\n",
            "\n"
          ]
        }
      ]
    },
    {
      "cell_type": "code",
      "source": [
        "#4 Write a Python script that reads from one file and writes its content to another file?\n",
        "# Define the input and output file names\n",
        "input_file = 'input.txt'\n",
        "output_file = 'output.txt'\n",
        "\n",
        "\n",
        "try:\n",
        "    with open(input_file, 'r') as infile, open(output_file, 'w') as outfile:\n",
        "        # Read content from the input file\n",
        "        content = infile.read()\n",
        "\n",
        "        # Write the content to the output file\n",
        "        outfile.write(content)\n",
        "\n",
        "    print(f\"Content copied from {input_file} to {output_file} successfully.\")\n",
        "\n",
        "except FileNotFoundError:\n",
        "    print(f\"Error: The file {input_file} does not exist.\")\n",
        "except IOError:\n",
        "    print(\"Error: An I/O error occurred.\")\n"
      ],
      "metadata": {
        "colab": {
          "base_uri": "https://localhost:8080/"
        },
        "id": "BECptOmNz63N",
        "outputId": "12757517-d3ff-4d1f-b2ae-55b31564fb5b"
      },
      "execution_count": null,
      "outputs": [
        {
          "output_type": "stream",
          "name": "stdout",
          "text": [
            "Error: The file input.txt does not exist.\n"
          ]
        }
      ]
    },
    {
      "cell_type": "code",
      "source": [
        "#5 How would you catch and handle division by zero error in Python?\n",
        "try:\n",
        "    result = 10 / 0\n",
        "except ZeroDivisionError:\n",
        "    print(\"Error: Division by zero is not allowed.\")"
      ],
      "metadata": {
        "colab": {
          "base_uri": "https://localhost:8080/"
        },
        "id": "OrLoovEj0P0M",
        "outputId": "4827013b-c0e3-449b-d279-304d22093955"
      },
      "execution_count": null,
      "outputs": [
        {
          "output_type": "stream",
          "name": "stdout",
          "text": [
            "Error: Division by zero is not allowed.\n"
          ]
        }
      ]
    },
    {
      "cell_type": "code",
      "source": [
        "#6 Write a Python program that logs an error message to a log file when a division by zero exception occurs?\n",
        "import logging\n",
        "\n",
        "\n",
        "logging.basicConfig(\n",
        "    filename='error_log.log',\n",
        "    level=logging.ERROR,\n",
        "    format='%(asctime)s - %(levelname)s - %(message)s'\n",
        ")\n",
        "\n",
        "def divide_numbers(num1, num2):\n",
        "    try:\n",
        "        result = num1 / num2\n",
        "        return result\n",
        "    except ZeroDivisionError as e:\n",
        "        logging.error(\"Division by zero error: %s\", e)\n",
        "        return None\n",
        "\n",
        "if __name__ == \"__main__\":\n",
        "\n",
        "    numerator = 10\n",
        "    denominator = 0\n",
        "\n",
        "    result = divide_numbers(numerator, denominator)\n",
        "\n",
        "    if result is None:\n",
        "        print(\"An error occurred during division. Check the log file for details.\")\n",
        "    else:\n",
        "        print(f\"The result of division is: {result}\")\n"
      ],
      "metadata": {
        "colab": {
          "base_uri": "https://localhost:8080/"
        },
        "id": "s684lEVu0R0F",
        "outputId": "47fcda72-123a-4bc0-94b3-6a139cec9b2f"
      },
      "execution_count": null,
      "outputs": [
        {
          "output_type": "stream",
          "name": "stderr",
          "text": [
            "ERROR:root:Division by zero error: division by zero\n"
          ]
        },
        {
          "output_type": "stream",
          "name": "stdout",
          "text": [
            "An error occurred during division. Check the log file for details.\n"
          ]
        }
      ]
    },
    {
      "cell_type": "code",
      "source": [
        "#7  How do you log information at different levels (INFO, ERROR, WARNING) in Python using the logging module?\n",
        "import logging\n",
        "\n",
        "logging.basicConfig(level=logging.INFO)\n",
        "\n",
        "logging.info(\"This is an informational message.\")\n",
        "logging.warning(\"This is a warning message.\")\n",
        "logging.error(\"This is an error message.\")"
      ],
      "metadata": {
        "colab": {
          "base_uri": "https://localhost:8080/"
        },
        "id": "VTv6YJ4A0ymW",
        "outputId": "318823c0-9bed-4f2d-9c3e-1c0f57189764"
      },
      "execution_count": null,
      "outputs": [
        {
          "output_type": "stream",
          "name": "stderr",
          "text": [
            "WARNING:root:This is a warning message.\n",
            "ERROR:root:This is an error message.\n"
          ]
        }
      ]
    },
    {
      "cell_type": "code",
      "source": [
        "#8  Write a program to handle a file opening error using exception handling?\n",
        "try:\n",
        "    with open('nonexistent_file.txt', 'r') as file:\n",
        "        content = file.read()\n",
        "except FileNotFoundError:\n",
        "    print(\"Error: The file does not exist.\")"
      ],
      "metadata": {
        "id": "I_9wmKwb0zET"
      },
      "execution_count": null,
      "outputs": []
    },
    {
      "cell_type": "code",
      "source": [
        "#9 How can you read a file line by line and store its content in a list in Python?\n",
        "with open('myfile.txt', 'r') as f:\n",
        "    lines = f.readlines()\n",
        "    for line in lines:\n",
        "        print(line.strip())\n",
        "\n"
      ],
      "metadata": {
        "colab": {
          "base_uri": "https://localhost:8080/"
        },
        "id": "6F-KD3Hv0y61",
        "outputId": "8deceeaa-bf90-42bc-f23e-a8b124beef24"
      },
      "execution_count": null,
      "outputs": [
        {
          "output_type": "stream",
          "name": "stdout",
          "text": [
            "Hello, World!\n"
          ]
        }
      ]
    },
    {
      "cell_type": "code",
      "source": [
        "#10 How can you append data to an existing file in Python?\n",
        "with open('myfile.txt', 'a') as file:\n",
        "    file.write(\"This is a new line of text.\\n\")\n",
        "\n",
        "\n"
      ],
      "metadata": {
        "id": "NHj2uZw51ius"
      },
      "execution_count": null,
      "outputs": []
    },
    {
      "cell_type": "code",
      "source": [
        "#11 Write a Python program that uses a try-except block to handle an error when attempting to access a\n",
        "#dictionary key that doesn't exist\n",
        "my_dict = {'a': 1, 'b': 2, 'c': 3}\n",
        "\n",
        "try:\n",
        "    value = my_dict['d']\n",
        "except KeyError:\n",
        "    print(\"Error: Key 'd' does not exist in the dictionary.\")"
      ],
      "metadata": {
        "colab": {
          "base_uri": "https://localhost:8080/"
        },
        "id": "tI9uLLLU3GqG",
        "outputId": "c8f7ec60-ead3-4eb3-f9c7-bfc32604b7fd"
      },
      "execution_count": null,
      "outputs": [
        {
          "output_type": "stream",
          "name": "stdout",
          "text": [
            "Error: Key 'd' does not exist in the dictionary.\n"
          ]
        }
      ]
    },
    {
      "cell_type": "code",
      "source": [
        "#12 Write a program that demonstrates using multiple except blocks to handle different types of exceptions\n",
        "try:\n",
        "    result = 10 / 0\n",
        "except ZeroDivisionError:\n",
        "    print(\"Error: Division by zero.\")\n",
        "except ValueError:\n",
        "    print(\"Error: Invalid value.\")\n"
      ],
      "metadata": {
        "id": "4Y5Y2f1p3JNk"
      },
      "execution_count": null,
      "outputs": []
    },
    {
      "cell_type": "code",
      "source": [
        "#13 How would you check if a file exists before attempting to read it in Python?\n",
        "import os\n",
        "\n",
        "file_name = 'myfile.txt'\n",
        "\n",
        "if os.path.exists(file_name):\n",
        "    with open(file_name, 'r') as file:\n",
        "        content = file.read()\n",
        "        print(content)\n"
      ],
      "metadata": {
        "id": "mC8CByH23m7s"
      },
      "execution_count": null,
      "outputs": []
    },
    {
      "cell_type": "code",
      "source": [
        "#14 Write a program that uses the logging module to log both informational and error messages\n",
        "import logging\n",
        "\n",
        "logging.basicConfig(level=logging.INFO)\n",
        "\n",
        "logging.info(\"This is an informational message.\")\n",
        "logging.error(\"This is an error message.\")"
      ],
      "metadata": {
        "id": "mZhv031z32fL"
      },
      "execution_count": null,
      "outputs": []
    },
    {
      "cell_type": "code",
      "source": [
        "#15 Write a Python program that prints the content of a file and handles the case when the file is empty\n",
        "def print_file_content(file_path):\n",
        "    try:\n",
        "        with open(file_path, 'r') as file:\n",
        "            content = file.read()\n",
        "            if content:  # Check if the content is not empty\n",
        "                print(\"File Content:\")\n",
        "                print(content)\n",
        "            else:\n",
        "                print(\"The file is empty.\")\n",
        "    except FileNotFoundError:\n",
        "        print(f\"The file '{file_path}' does not exist.\")\n",
        "    except Exception as e:\n",
        "        print(f\"An error occurred: {e}\")\n",
        "\n",
        "# Specify the path to your file\n",
        "file_path = 'example.txt'  # Change this to your file path\n",
        "print_file_content(file_path)\n",
        "\n"
      ],
      "metadata": {
        "id": "LMgFzXm539eD"
      },
      "execution_count": null,
      "outputs": []
    },
    {
      "cell_type": "code",
      "source": [
        "#16 Demonstrate how to use memory profiling to check the memory usage of a small program\n",
        "import memory_profiler\n",
        "import random\n",
        "import time\n",
        "\n",
        "@memory_profiler.profile\n",
        "def create_large_list(size):\n",
        "    \"\"\"Creates a list of a given size with random integers.\"\"\"\n",
        "    my_list = []\n",
        "    for _ in range(size):\n",
        "        my_list.append(random.randint(0, 1000))\n",
        "    return my_list\n",
        "\n",
        "@memory_profiler.profile\n",
        "def process_list(data):\n",
        "    \"\"\"Processes the list by squaring each element.\"\"\"\n",
        "    result = [x**2 for x in data]\n",
        "    time.sleep(0.1) #Simulate some processing time\n",
        "    return result\n",
        "\n",
        "@memory_profiler.profile\n",
        "def main():\n",
        "    \"\"\"Main function that calls the list creation and processing functions.\"\"\"\n",
        "    list_size = 1000000\n",
        "    my_list = create_large_list(list_size)\n",
        "    processed_list = process_list(my_list)\n",
        "    #del processed_list # uncomment this line to see the memory difference.\n",
        "    print(f\"List processing complete. List size: {list_size}\")\n",
        "\n",
        "if __name__ == \"__main__\":\n",
        "\n",
        "    main()\n",
        "\n",
        "    python -m memory_profiler main.py\n",
        "\n"
      ],
      "metadata": {
        "colab": {
          "base_uri": "https://localhost:8080/",
          "height": 384
        },
        "id": "wsQ5ib3y4Pey",
        "outputId": "3c414106-116f-4364-b6da-13c81e93e776"
      },
      "execution_count": null,
      "outputs": [
        {
          "output_type": "error",
          "ename": "ModuleNotFoundError",
          "evalue": "No module named 'memory_profiler'",
          "traceback": [
            "\u001b[0;31m---------------------------------------------------------------------------\u001b[0m",
            "\u001b[0;31mModuleNotFoundError\u001b[0m                       Traceback (most recent call last)",
            "\u001b[0;32m<ipython-input-23-ff2e424a9743>\u001b[0m in \u001b[0;36m<cell line: 0>\u001b[0;34m()\u001b[0m\n\u001b[1;32m      1\u001b[0m \u001b[0;31m#16 Demonstrate how to use memory profiling to check the memory usage of a small program\u001b[0m\u001b[0;34m\u001b[0m\u001b[0;34m\u001b[0m\u001b[0m\n\u001b[0;32m----> 2\u001b[0;31m \u001b[0;32mimport\u001b[0m \u001b[0mmemory_profiler\u001b[0m\u001b[0;34m\u001b[0m\u001b[0;34m\u001b[0m\u001b[0m\n\u001b[0m\u001b[1;32m      3\u001b[0m \u001b[0;32mimport\u001b[0m \u001b[0mrandom\u001b[0m\u001b[0;34m\u001b[0m\u001b[0;34m\u001b[0m\u001b[0m\n\u001b[1;32m      4\u001b[0m \u001b[0;32mimport\u001b[0m \u001b[0mtime\u001b[0m\u001b[0;34m\u001b[0m\u001b[0;34m\u001b[0m\u001b[0m\n\u001b[1;32m      5\u001b[0m \u001b[0;34m\u001b[0m\u001b[0m\n",
            "\u001b[0;31mModuleNotFoundError\u001b[0m: No module named 'memory_profiler'",
            "",
            "\u001b[0;31m---------------------------------------------------------------------------\u001b[0;32m\nNOTE: If your import is failing due to a missing package, you can\nmanually install dependencies using either !pip or !apt.\n\nTo view examples of installing some common dependencies, click the\n\"Open Examples\" button below.\n\u001b[0;31m---------------------------------------------------------------------------\u001b[0m\n"
          ],
          "errorDetails": {
            "actions": [
              {
                "action": "open_url",
                "actionText": "Open Examples",
                "url": "/notebooks/snippets/importing_libraries.ipynb"
              }
            ]
          }
        }
      ]
    },
    {
      "cell_type": "code",
      "source": [
        "#17 Write a Python program to create and write a list of numbers to a file, one number per line?\n",
        "# Define the list of numbers\n",
        "numbers = [1, 2, 3, 4, 5, 6, 7, 8, 9, 10]\n",
        "\n",
        "# Specify the filename\n",
        "filename = 'numbers.txt'\n",
        "\n",
        "# Open the file in write mode\n",
        "with open(filename, 'w') as file:\n",
        "    # Write each number to the file, one per line\n",
        "    for number in numbers:\n",
        "        file.write(f\"{number}\\n\")\n",
        "\n",
        "print(f\"Numbers have been written to {filename}.\")\n"
      ],
      "metadata": {
        "id": "Q_kDwYez6WCV"
      },
      "execution_count": null,
      "outputs": []
    },
    {
      "cell_type": "code",
      "source": [
        "#18  How would you implement a basic logging setup that logs to a file with rotation after 1MB\n",
        "import logging\n",
        "from logging.handlers import RotatingFileHandler\n",
        "\n",
        "# Define the log file path\n",
        "log_file_path = 'app.log'\n",
        "\n",
        "# Create a logger\n",
        "logger = logging.getLogger('MyLogger')\n",
        "logger.setLevel(logging.INFO)\n",
        "\n",
        "\n",
        "handler = RotatingFileHandler(log_file_path, maxBytes=1 * 1024 * 1024, backupCount=5)\n",
        "handler.setLevel(logging.INFO)\n",
        "\n",
        "# Create a formatter and set it for the handler\n",
        "formatter = logging.Formatter('%(asctime)s - %(name)s - %(levelname)s - %(message)s')\n",
        "handler.setFormatter(formatter)\n",
        "\n",
        "# Add the handler to the logger\n",
        "logger.addHandler(handler)\n",
        "\n",
        "# Example logging\n",
        "for i in range(10000):\n",
        "    logger.info(f'This is log message number {i}')\n"
      ],
      "metadata": {
        "id": "OrM_-GjC6ih8"
      },
      "execution_count": null,
      "outputs": []
    },
    {
      "cell_type": "code",
      "source": [
        "#19 Write a program that handles both IndexError and KeyError using a try-except # Sample data\n",
        "my_list = [1, 2, 3]\n",
        "my_dict = {'a': 1, 'b': 2}\n",
        "\n",
        "# Function to demonstrate error handling\n",
        "def access_data(index, key):\n",
        "    try:\n",
        "        # Attempt to access an element from the list\n",
        "        list_value = my_list[index]\n",
        "        print(f\"List value at index {index}: {list_value}\")\n",
        "\n",
        "        # Attempt to access a value from the dictionary\n",
        "        dict_value = my_dict[key]\n",
        "        print(f\"Dictionary value for key '{key}': {dict_value}\")\n",
        "\n",
        "    except IndexError:\n",
        "        print(f\"Error: Index {index} is out of range for the list.\")\n",
        "    except KeyError:\n",
        "        print(f\"Error: Key '{key}' not found in the dictionary.\")\n",
        "\n",
        "# Test cases\n",
        "access_data(2, 'a')  # Valid access\n",
        "access_data(5, 'b')  # IndexError\n",
        "access_data(1, 'c')  # KeyError\n",
        "block?\n"
      ],
      "metadata": {
        "id": "oifvx-7C64Ck"
      },
      "execution_count": null,
      "outputs": []
    },
    {
      "cell_type": "code",
      "source": [
        "#20  How would you open a file and read its contents using a context manager in Python\n",
        "with open('myfile.txt', 'r') as file:\n",
        "    content = file.read()\n",
        "    print(content)\n"
      ],
      "metadata": {
        "colab": {
          "base_uri": "https://localhost:8080/"
        },
        "id": "_qsRX3sK7Kty",
        "outputId": "58ff21d2-3585-400a-c53e-3fd407b2a94e"
      },
      "execution_count": null,
      "outputs": [
        {
          "output_type": "stream",
          "name": "stdout",
          "text": [
            "Hello, World!\n",
            "This is appended data.\n",
            "This is appended data.\n",
            "This is a new line of text.\n",
            "\n"
          ]
        }
      ]
    },
    {
      "cell_type": "code",
      "source": [
        "#21  Write a Python program that reads a file and prints the number of occurrences of a specific word?\n",
        "\n",
        "file_path = 'example.txt'  # Replace with your file path\n",
        "target_word = 'Python'     # Replace with the word to count\n",
        "\n",
        "try:\n",
        "    with open(file_path, 'r') as file:\n",
        "        contents = file.read()\n",
        "        count = contents.split().count(target_word)\n",
        "    print(f\"The word '{target_word}' occurs {count} times in the file.\")\n",
        "except FileNotFoundError:\n",
        "    print(f\"Error: The file '{file_path}' was not found.\")\n",
        "\n",
        "\n",
        "\n",
        "\n",
        "\n"
      ],
      "metadata": {
        "id": "HamHKYbx8OO9"
      },
      "execution_count": null,
      "outputs": []
    },
    {
      "cell_type": "code",
      "source": [
        "#22  How can you check if a file is empty before attempting to read its contents?\n",
        "file_path = 'example.txt'  # Replace with your file path\n",
        "\n",
        "with open(file_path, 'r') as file:\n",
        "    if file.read() == \"\":\n",
        "        print(\"The file is empty.\")\n",
        "    else:\n",
        "        print(\"The file is not empty.\")\n",
        "\n"
      ],
      "metadata": {
        "colab": {
          "base_uri": "https://localhost:8080/",
          "height": 211
        },
        "id": "1QZSi_nG9CoM",
        "outputId": "517df642-e826-42f6-f2fe-00e6cf2d8481"
      },
      "execution_count": null,
      "outputs": [
        {
          "output_type": "error",
          "ename": "FileNotFoundError",
          "evalue": "[Errno 2] No such file or directory: 'example.txt'",
          "traceback": [
            "\u001b[0;31m---------------------------------------------------------------------------\u001b[0m",
            "\u001b[0;31mFileNotFoundError\u001b[0m                         Traceback (most recent call last)",
            "\u001b[0;32m<ipython-input-27-9d6bf01e3b76>\u001b[0m in \u001b[0;36m<cell line: 0>\u001b[0;34m()\u001b[0m\n\u001b[1;32m      2\u001b[0m \u001b[0mfile_path\u001b[0m \u001b[0;34m=\u001b[0m \u001b[0;34m'example.txt'\u001b[0m  \u001b[0;31m# Replace with your file path\u001b[0m\u001b[0;34m\u001b[0m\u001b[0;34m\u001b[0m\u001b[0m\n\u001b[1;32m      3\u001b[0m \u001b[0;34m\u001b[0m\u001b[0m\n\u001b[0;32m----> 4\u001b[0;31m \u001b[0;32mwith\u001b[0m \u001b[0mopen\u001b[0m\u001b[0;34m(\u001b[0m\u001b[0mfile_path\u001b[0m\u001b[0;34m,\u001b[0m \u001b[0;34m'r'\u001b[0m\u001b[0;34m)\u001b[0m \u001b[0;32mas\u001b[0m \u001b[0mfile\u001b[0m\u001b[0;34m:\u001b[0m\u001b[0;34m\u001b[0m\u001b[0;34m\u001b[0m\u001b[0m\n\u001b[0m\u001b[1;32m      5\u001b[0m     \u001b[0;32mif\u001b[0m \u001b[0mfile\u001b[0m\u001b[0;34m.\u001b[0m\u001b[0mread\u001b[0m\u001b[0;34m(\u001b[0m\u001b[0;34m)\u001b[0m \u001b[0;34m==\u001b[0m \u001b[0;34m\"\"\u001b[0m\u001b[0;34m:\u001b[0m\u001b[0;34m\u001b[0m\u001b[0;34m\u001b[0m\u001b[0m\n\u001b[1;32m      6\u001b[0m         \u001b[0mprint\u001b[0m\u001b[0;34m(\u001b[0m\u001b[0;34m\"The file is empty.\"\u001b[0m\u001b[0;34m)\u001b[0m\u001b[0;34m\u001b[0m\u001b[0;34m\u001b[0m\u001b[0m\n",
            "\u001b[0;31mFileNotFoundError\u001b[0m: [Errno 2] No such file or directory: 'example.txt'"
          ]
        }
      ]
    },
    {
      "cell_type": "code",
      "source": [
        "#23 Write a Python program that writes to a log file when an error occurs during file handling.\n",
        "import logging\n",
        "\n",
        "# Configure logging\n",
        "logging.basicConfig(filename='error_log.txt', level=logging.ERROR,\n",
        "                    format='%(asctime)s - %(levelname)s - %(message)s')\n",
        "\n",
        "def read_file(file_path):\n",
        "    try:\n",
        "        with open(file_path, 'r') as file:\n",
        "            contents = file.read()\n",
        "            print(contents)\n",
        "    except FileNotFoundError as e:\n",
        "        logging.error(f\"FileNotFoundError: {e}\")\n",
        "        print(\"Error: The specified file was not found.\")\n",
        "    except IOError as e:\n",
        "        logging.error(f\"IOError: {e}\")\n",
        "        print(\"Error: An I/O error occurred.\")\n",
        "    except Exception as e:\n",
        "        logging.error(f\"Unexpected error: {e}\")\n",
        "        print(\"Error: An unexpected error occurred.\")\n",
        "\n",
        "# Example usage\n",
        "file_path = 'example.txt'  # Replace with your file path\n",
        "read_file(file_path)\n"
      ],
      "metadata": {
        "id": "NIvopxds9XIG"
      },
      "execution_count": null,
      "outputs": []
    }
  ]
}